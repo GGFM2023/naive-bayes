{
 "cells": [
  {
   "cell_type": "code",
   "execution_count": 3,
   "metadata": {},
   "outputs": [],
   "source": [
    "import os\n",
    "import re     # this package is needed to remove the special characters in the book\n",
    "from math import *\n",
    "import pandas as pd\n",
    "import numpy as np\n",
    "import nltk\n",
    "from nltk.corpus import stopwords \n",
    "from nltk.tokenize import word_tokenize "
   ]
  },
  {
   "cell_type": "code",
   "execution_count": 14,
   "metadata": {},
   "outputs": [
    {
     "name": "stdout",
     "output_type": "stream",
     "text": [
      "[nltk_data] Downloading package stopwords to\n",
      "[nltk_data]     /Users/yongzhongxu/nltk_data...\n",
      "[nltk_data]   Package stopwords is already up-to-date!\n"
     ]
    }
   ],
   "source": [
    "working_path = \"/Users/yongzhongxu/Downloads/news_article/\"\n",
    "\n",
    "nltk.download('stopwords')\n",
    "stop_words = set(stopwords.words('english')) \n",
    "\n",
    "def getFrequancyTable(file):\n",
    "    word_count = {}\n",
    "    freq_table = {}\n",
    "    total = 0\n",
    "    with open(file, encoding='utf8') as fp:\n",
    "        for line in fp:\n",
    "            line = line.rstrip('\\n').lower()\n",
    "            # remove special characters\n",
    "            line = re.sub('[!@#$._()*%&/]', '', line)\n",
    "            l=line.split()\n",
    "            filtered = [w for w in l if not w in stop_words] \n",
    "            for word in filtered:\n",
    "                if word in word_count:\n",
    "                    word_count[word] += 1\n",
    "                else:\n",
    "                    word_count[word] = 1\n",
    "                total += 1\n",
    "    fp.close()\n",
    "    for word in word_count:\n",
    "        freq_table[word]=word_count[word]/total\n",
    "        \n",
    "    return word_count, freq_table, total"
   ]
  },
  {
   "cell_type": "code",
   "execution_count": 15,
   "metadata": {},
   "outputs": [
    {
     "ename": "UnicodeDecodeError",
     "evalue": "'utf-8' codec can't decode byte 0x92 in position 315: invalid start byte",
     "output_type": "error",
     "traceback": [
      "\u001b[0;31m---------------------------------------------------------------------------\u001b[0m",
      "\u001b[0;31mUnicodeDecodeError\u001b[0m                        Traceback (most recent call last)",
      "\u001b[0;32m<ipython-input-15-f6d54ef28eda>\u001b[0m in \u001b[0;36m<module>\u001b[0;34m()\u001b[0m\n\u001b[1;32m      4\u001b[0m \u001b[0mfile2\u001b[0m \u001b[0;34m=\u001b[0m \u001b[0mworking_path\u001b[0m\u001b[0;34m+\u001b[0m\u001b[0mcat2\u001b[0m\u001b[0;34m\u001b[0m\u001b[0m\n\u001b[1;32m      5\u001b[0m \u001b[0;34m\u001b[0m\u001b[0m\n\u001b[0;32m----> 6\u001b[0;31m \u001b[0mvoc1\u001b[0m\u001b[0;34m,\u001b[0m \u001b[0mtable1\u001b[0m\u001b[0;34m,\u001b[0m \u001b[0mtotal1\u001b[0m \u001b[0;34m=\u001b[0m \u001b[0mgetFrequancyTable\u001b[0m\u001b[0;34m(\u001b[0m\u001b[0mfile1\u001b[0m\u001b[0;34m)\u001b[0m\u001b[0;34m\u001b[0m\u001b[0m\n\u001b[0m\u001b[1;32m      7\u001b[0m \u001b[0mvoc2\u001b[0m\u001b[0;34m,\u001b[0m \u001b[0mtable2\u001b[0m\u001b[0;34m,\u001b[0m \u001b[0mtotal2\u001b[0m \u001b[0;34m=\u001b[0m \u001b[0mgetFrequancyTable\u001b[0m\u001b[0;34m(\u001b[0m\u001b[0mfile2\u001b[0m\u001b[0;34m)\u001b[0m\u001b[0;34m\u001b[0m\u001b[0m\n\u001b[1;32m      8\u001b[0m \u001b[0;34m\u001b[0m\u001b[0m\n",
      "\u001b[0;32m<ipython-input-14-51ec75dcc7bb>\u001b[0m in \u001b[0;36mgetFrequancyTable\u001b[0;34m(file)\u001b[0m\n\u001b[1;32m      9\u001b[0m     \u001b[0mtotal\u001b[0m \u001b[0;34m=\u001b[0m \u001b[0;36m0\u001b[0m\u001b[0;34m\u001b[0m\u001b[0m\n\u001b[1;32m     10\u001b[0m     \u001b[0;32mwith\u001b[0m \u001b[0mopen\u001b[0m\u001b[0;34m(\u001b[0m\u001b[0mfile\u001b[0m\u001b[0;34m,\u001b[0m \u001b[0mencoding\u001b[0m\u001b[0;34m=\u001b[0m\u001b[0;34m'utf8'\u001b[0m\u001b[0;34m)\u001b[0m \u001b[0;32mas\u001b[0m \u001b[0mfp\u001b[0m\u001b[0;34m:\u001b[0m\u001b[0;34m\u001b[0m\u001b[0m\n\u001b[0;32m---> 11\u001b[0;31m         \u001b[0;32mfor\u001b[0m \u001b[0mline\u001b[0m \u001b[0;32min\u001b[0m \u001b[0mfp\u001b[0m\u001b[0;34m:\u001b[0m\u001b[0;34m\u001b[0m\u001b[0m\n\u001b[0m\u001b[1;32m     12\u001b[0m             \u001b[0mline\u001b[0m \u001b[0;34m=\u001b[0m \u001b[0mline\u001b[0m\u001b[0;34m.\u001b[0m\u001b[0mrstrip\u001b[0m\u001b[0;34m(\u001b[0m\u001b[0;34m'\\n'\u001b[0m\u001b[0;34m)\u001b[0m\u001b[0;34m.\u001b[0m\u001b[0mlower\u001b[0m\u001b[0;34m(\u001b[0m\u001b[0;34m)\u001b[0m\u001b[0;34m\u001b[0m\u001b[0m\n\u001b[1;32m     13\u001b[0m             \u001b[0;31m# remove special characters\u001b[0m\u001b[0;34m\u001b[0m\u001b[0;34m\u001b[0m\u001b[0m\n",
      "\u001b[0;32m/anaconda3/lib/python3.6/codecs.py\u001b[0m in \u001b[0;36mdecode\u001b[0;34m(self, input, final)\u001b[0m\n\u001b[1;32m    319\u001b[0m         \u001b[0;31m# decode input (taking the buffer into account)\u001b[0m\u001b[0;34m\u001b[0m\u001b[0;34m\u001b[0m\u001b[0m\n\u001b[1;32m    320\u001b[0m         \u001b[0mdata\u001b[0m \u001b[0;34m=\u001b[0m \u001b[0mself\u001b[0m\u001b[0;34m.\u001b[0m\u001b[0mbuffer\u001b[0m \u001b[0;34m+\u001b[0m \u001b[0minput\u001b[0m\u001b[0;34m\u001b[0m\u001b[0m\n\u001b[0;32m--> 321\u001b[0;31m         \u001b[0;34m(\u001b[0m\u001b[0mresult\u001b[0m\u001b[0;34m,\u001b[0m \u001b[0mconsumed\u001b[0m\u001b[0;34m)\u001b[0m \u001b[0;34m=\u001b[0m \u001b[0mself\u001b[0m\u001b[0;34m.\u001b[0m\u001b[0m_buffer_decode\u001b[0m\u001b[0;34m(\u001b[0m\u001b[0mdata\u001b[0m\u001b[0;34m,\u001b[0m \u001b[0mself\u001b[0m\u001b[0;34m.\u001b[0m\u001b[0merrors\u001b[0m\u001b[0;34m,\u001b[0m \u001b[0mfinal\u001b[0m\u001b[0;34m)\u001b[0m\u001b[0;34m\u001b[0m\u001b[0m\n\u001b[0m\u001b[1;32m    322\u001b[0m         \u001b[0;31m# keep undecoded input until the next call\u001b[0m\u001b[0;34m\u001b[0m\u001b[0;34m\u001b[0m\u001b[0m\n\u001b[1;32m    323\u001b[0m         \u001b[0mself\u001b[0m\u001b[0;34m.\u001b[0m\u001b[0mbuffer\u001b[0m \u001b[0;34m=\u001b[0m \u001b[0mdata\u001b[0m\u001b[0;34m[\u001b[0m\u001b[0mconsumed\u001b[0m\u001b[0;34m:\u001b[0m\u001b[0;34m]\u001b[0m\u001b[0;34m\u001b[0m\u001b[0m\n",
      "\u001b[0;31mUnicodeDecodeError\u001b[0m: 'utf-8' codec can't decode byte 0x92 in position 315: invalid start byte"
     ]
    }
   ],
   "source": [
    "cat1 = \"cyb.txt\"\n",
    "cat2 = \"mmc.txt\"\n",
    "file1 = working_path+cat1\n",
    "file2 = working_path+cat2\n",
    "\n",
    "voc1, table1, total1 = getFrequancyTable(file1)\n",
    "voc2, table2, total2 = getFrequancyTable(file2)\n",
    "\n",
    "alpha = 0.0001\n",
    "\n",
    "#### find the vocabulary table ######\n",
    "voc = {**voc1, **voc2}\n",
    "V = len(voc)\n",
    "\n",
    "### calculate the frequency table using Laplace smoothing\n",
    "for word in table1:\n",
    "    table1[word]= (table1[word]+ alpha)/(total1 +V+1)\n",
    "for word in table2:\n",
    "    table2[word]= (table2[word] + alpha)/(total2+V+1)\n",
    "\n",
    "for word in voc:\n",
    "    a1 = alpha/(total1 +V+1)\n",
    "    a2 = alpha/(total2 +V+1)\n",
    "    if word in table1.keys() and word in table2.keys():\n",
    "        voc[word]= table1[word], table2[word]\n",
    "    elif (not word in table1.keys() and word in table2.keys()):\n",
    "        voc[word]= a1, table2[word]\n",
    "    elif(not word in table2.keys() and word in table1.keys()):\n",
    "        voc[word]= table1[word], a2\n",
    "    else:\n",
    "        voc[word] = a1, a2\n",
    "\n",
    "voc[\"security\"]"
   ]
  },
  {
   "cell_type": "code",
   "execution_count": null,
   "metadata": {},
   "outputs": [],
   "source": [
    "## calculate the conditional probility of each author\n",
    "def calProb(sample):\n",
    "    '''\n",
    "    Returns: p1, p2 are the conditional probability of each category respectively\n",
    "    '''\n",
    "    voc3, table3, total3 = getFrequancyTable(file3)\n",
    "    p1 = 0\n",
    "    p2 = 0\n",
    "    for word in voc:\n",
    "        if word in table3.keys():\n",
    "            p1 += log(1+table3[word])* log(voc3[word][0])\n",
    "            p2 += log(1+table3[word])* log(voc3[word][1])\n",
    "    return p1, p2\n",
    "\n",
    "\n",
    "def predict(sample):\n",
    "    file3 = working_path + sample\n",
    "    p1, p2 = calProb(file3)\n",
    "    return {True: 0, False: 1}[p1>p2] \n",
    "   # here 0 means the author is Conan Doyle, while 1 is Jane Austen.\n",
    "    \n",
    "\n",
    "sample = \"mmc5.txt\"\n",
    "predict(sample)\n",
    "      "
   ]
  }
 ],
 "metadata": {
  "kernelspec": {
   "display_name": "Python 3",
   "language": "python",
   "name": "python3"
  },
  "language_info": {
   "codemirror_mode": {
    "name": "ipython",
    "version": 3
   },
   "file_extension": ".py",
   "mimetype": "text/x-python",
   "name": "python",
   "nbconvert_exporter": "python",
   "pygments_lexer": "ipython3",
   "version": "3.6.5"
  }
 },
 "nbformat": 4,
 "nbformat_minor": 2
}
